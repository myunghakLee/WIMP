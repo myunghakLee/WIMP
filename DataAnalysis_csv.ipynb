{
 "cells": [
  {
   "cell_type": "code",
   "execution_count": 20,
   "metadata": {
    "ExecuteTime": {
     "end_time": "2020-10-30T14:20:49.173276Z",
     "start_time": "2020-10-30T14:20:48.979959Z"
    }
   },
   "outputs": [],
   "source": [
    "# !mkdir ToGIF\n",
    "# !mkdir GIF"
   ]
  },
  {
   "cell_type": "code",
   "execution_count": 85,
   "metadata": {
    "ExecuteTime": {
     "end_time": "2020-10-30T13:37:36.348138Z",
     "start_time": "2020-10-30T13:37:26.509304Z"
    },
    "scrolled": true
   },
   "outputs": [
    {
     "data": {
      "application/vnd.jupyter.widget-view+json": {
       "model_id": "e93b63faf52c42bb982559941c650393",
       "version_major": 2,
       "version_minor": 0
      },
      "text/plain": [
       "HBox(children=(FloatProgress(value=1.0, bar_style='info', max=1.0), HTML(value='')))"
      ]
     },
     "metadata": {},
     "output_type": "display_data"
    },
    {
     "name": "stdout",
     "output_type": "stream",
     "text": [
      "\n"
     ]
    },
    {
     "data": {
      "image/png": "[encoded data removed]",
      "text/plain": [
       "<Figure size 432x288 with 1 Axes>"
      ]
     },
     "metadata": {
      "needs_background": "light"
     },
     "output_type": "display_data"
    }
   ],
   "source": [
    "# import csv\n",
    "# from tqdm.notebook import tqdm\n",
    "\n",
    "# index = 0\n",
    "\n",
    "# root_dir = \"data/argoverse_raw/train/\"\n",
    "# file_list = os.listdir(root_dir)\n",
    "# num_figname = 1\n",
    "\n",
    "# color = {\"AGENT\" : \"blue\", \"AV\" : \"orange\", \"OTHERS\" : \"gray\"}\n",
    "\n",
    "# trajectory = {}\n",
    "# trajectory[\"AV\"] = np.empty((0,2))\n",
    "# trajectory[\"AGENT\"] = np.empty((0,2))\n",
    "# trajectory[\"OTHERS\"] = np.empty((0,2))\n",
    "\n",
    "# with open(root_dir + file_list[index], newline='') as csvfile:\n",
    "#     spamreader = csv.reader(csvfile, delimiter=',', quotechar='|')\n",
    "#     time_step = -1\n",
    "#     for i, row in tqdm(enumerate(spamreader)):\n",
    "#         if i >0:\n",
    "#             if time_step != row[0]:\n",
    "#                 time_step = row[0]\n",
    "#                 try:\n",
    "#                     plt.plot(trajectory[\"AV\"][...,0],trajectory[\"AV\"][...,1],color=color[\"AV\"], zorder=1)\n",
    "#                     plt.plot(trajectory[\"AV\"][...,0],trajectory[\"AV\"][...,1],color=color[\"AGENT\"],zorder=1)\n",
    "# #                     print(\"AGENT: \", trajectory[\"AGENT\"])\n",
    "# #                     print(\"AV: \", trajectory[\"AV\"])\n",
    "#                 except:\n",
    "# #                     print(\"pass\")\n",
    "# #                     print(trajectory[\"AGENT\"])\n",
    "\n",
    "#                     pass\n",
    "# #                 plt.legend()\n",
    "#                 plt.savefig(\"ToGIF/\" + str(num_figname).zfill(3) + \".png\")\n",
    "#                 num_figname +=1\n",
    "#                 plt.cla()\n",
    "            \n",
    "#             plt.scatter(float(row[3]), float(row[4]), color = color[row[2]], label = row[2])\n",
    "#             trajectory[row[2]] = np.append(trajectory[row[2]],np.array([[float(row[3]), float(row[4])]]), axis=0)\n",
    "# #             if num_figname == 20:\n",
    "\n",
    "# #                 break"
   ]
  },
  {
   "cell_type": "code",
   "execution_count": 11,
   "metadata": {
    "ExecuteTime": {
     "end_time": "2020-11-02T20:25:02.951813Z",
     "start_time": "2020-11-02T20:24:56.752137Z"
    }
   },
   "outputs": [],
   "source": [
    "import os\n",
    "import numpy as np\n",
    "import pandas as pd\n",
    "from tqdm.notebook import tqdm\n",
    "from matplotlib import pyplot as plt\n",
    "\n",
    "import matplotlib.pyplot as plt\n",
    "import numpy as np\n",
    "import imageio\n",
    "from PIL import Image\n",
    "import matplotlib.image as mpimg\n",
    "\n",
    "index = 0\n",
    "\n",
    "root_dir = \"data/argoverse_raw/test/\"\n",
    "file_list = sorted(os.listdir(root_dir), key = lambda a: int(a.split('.')[0]))\n",
    "\n",
    "color = {\"AGENT\" : \"blue\", \"AV\" : \"orange\", \"OTHERS\" : \"gray\"}\n",
    "\n",
    "\n",
    "from argoverse.map_representation.map_api import ArgoverseMap\n",
    "\n",
    "am = ArgoverseMap()\n",
    "\n",
    "csv = pd.read_csv(root_dir + file_list[index])\n",
    "xmax,xmin = max(csv[\"X\"]), min(csv[\"X\"])\n",
    "ymax,ymin = max(csv[\"Y\"]), min(csv[\"Y\"])\n",
    "local_lane_polygons = am.find_local_lane_polygons([xmin, xmax, ymin, ymax], csv[\"CITY_NAME\"][0])"
   ]
  },
  {
   "cell_type": "code",
   "execution_count": 12,
   "metadata": {
    "ExecuteTime": {
     "end_time": "2020-11-02T20:25:02.955883Z",
     "start_time": "2020-11-02T20:25:02.953088Z"
    }
   },
   "outputs": [
    {
     "name": "stdout",
     "output_type": "stream",
     "text": [
      "20\n"
     ]
    }
   ],
   "source": [
    "ans = 0\n",
    "for i in csv['OBJECT_TYPE']:\n",
    "    if i == \"AV\":\n",
    "        ans +=1\n",
    "        \n",
    "print(ans)"
   ]
  },
  {
   "cell_type": "code",
   "execution_count": 4,
   "metadata": {
    "ExecuteTime": {
     "end_time": "2020-11-01T18:51:37.802334Z",
     "start_time": "2020-11-01T18:51:37.651795Z"
    }
   },
   "outputs": [
    {
     "data": {
      "image/png": "[encoded data removed]",
      "text/plain": [
       "<Figure size 432x288 with 1 Axes>"
      ]
     },
     "metadata": {
      "needs_background": "light"
     },
     "output_type": "display_data"
    }
   ],
   "source": [
    "for l in local_lane_polygons:\n",
    "    x_l = l[...,0]\n",
    "    y_l = l[...,1]\n",
    "    plt.plot(x_l,y_l,linewidth=0.5, color = 'gray')"
   ]
  },
  {
   "cell_type": "code",
   "execution_count": 6,
   "metadata": {
    "ExecuteTime": {
     "end_time": "2020-10-30T18:20:11.036337Z",
     "start_time": "2020-10-30T18:11:26.165569Z"
    },
    "scrolled": false
   },
   "outputs": [
    {
     "name": "stdout",
     "output_type": "stream",
     "text": [
      "79\n"
     ]
    },
    {
     "data": {
      "application/vnd.jupyter.widget-view+json": {
       "model_id": "482b94ef2de34540b9ceff9b20ad3e98",
       "version_major": 2,
       "version_minor": 0
      },
      "text/plain": [
       "HBox(children=(FloatProgress(value=0.0, max=337.0), HTML(value='')))"
      ]
     },
     "metadata": {},
     "output_type": "display_data"
    },
    {
     "name": "stdout",
     "output_type": "stream",
     "text": [
      "\n",
      "./GIF/0_lane.gif is saved\n",
      "60\n"
     ]
    },
    {
     "data": {
      "application/vnd.jupyter.widget-view+json": {
       "model_id": "2482d1e663964ed19d3a7b418047f480",
       "version_major": 2,
       "version_minor": 0
      },
      "text/plain": [
       "HBox(children=(FloatProgress(value=0.0, max=647.0), HTML(value='')))"
      ]
     },
     "metadata": {},
     "output_type": "display_data"
    },
    {
     "name": "stdout",
     "output_type": "stream",
     "text": [
      "\n",
      "./GIF/1_lane.gif is saved\n",
      "35\n"
     ]
    },
    {
     "data": {
      "application/vnd.jupyter.widget-view+json": {
       "model_id": "38ca495e74854f348ce11e19588773f5",
       "version_major": 2,
       "version_minor": 0
      },
      "text/plain": [
       "HBox(children=(FloatProgress(value=0.0, max=303.0), HTML(value='')))"
      ]
     },
     "metadata": {},
     "output_type": "display_data"
    },
    {
     "name": "stdout",
     "output_type": "stream",
     "text": [
      "\n",
      "./GIF/2_lane.gif is saved\n",
      "107\n"
     ]
    },
    {
     "data": {
      "application/vnd.jupyter.widget-view+json": {
       "model_id": "e658ea7fca6940a4981f7623d2b55a47",
       "version_major": 2,
       "version_minor": 0
      },
      "text/plain": [
       "HBox(children=(FloatProgress(value=0.0, max=1878.0), HTML(value='')))"
      ]
     },
     "metadata": {},
     "output_type": "display_data"
    },
    {
     "name": "stdout",
     "output_type": "stream",
     "text": [
      "\n",
      "./GIF/3_lane.gif is saved\n",
      "94\n"
     ]
    },
    {
     "data": {
      "application/vnd.jupyter.widget-view+json": {
       "model_id": "89b267542e824ac2bf4397e05732f54b",
       "version_major": 2,
       "version_minor": 0
      },
      "text/plain": [
       "HBox(children=(FloatProgress(value=0.0, max=813.0), HTML(value='')))"
      ]
     },
     "metadata": {},
     "output_type": "display_data"
    },
    {
     "name": "stdout",
     "output_type": "stream",
     "text": [
      "\n",
      "./GIF/4_lane.gif is saved\n",
      "46\n"
     ]
    },
    {
     "data": {
      "application/vnd.jupyter.widget-view+json": {
       "model_id": "948d3f52431546298b0db91cb0f1f768",
       "version_major": 2,
       "version_minor": 0
      },
      "text/plain": [
       "HBox(children=(FloatProgress(value=0.0, max=426.0), HTML(value='')))"
      ]
     },
     "metadata": {},
     "output_type": "display_data"
    },
    {
     "name": "stdout",
     "output_type": "stream",
     "text": [
      "\n",
      "./GIF/5_lane.gif is saved\n",
      "109\n"
     ]
    },
    {
     "data": {
      "application/vnd.jupyter.widget-view+json": {
       "model_id": "8a3857c10521463c841237140d873f2d",
       "version_major": 2,
       "version_minor": 0
      },
      "text/plain": [
       "HBox(children=(FloatProgress(value=0.0, max=1888.0), HTML(value='')))"
      ]
     },
     "metadata": {},
     "output_type": "display_data"
    },
    {
     "name": "stdout",
     "output_type": "stream",
     "text": [
      "\n",
      "./GIF/6_lane.gif is saved\n",
      "63\n"
     ]
    },
    {
     "data": {
      "application/vnd.jupyter.widget-view+json": {
       "model_id": "91281557da774f03b59a655ced7cb448",
       "version_major": 2,
       "version_minor": 0
      },
      "text/plain": [
       "HBox(children=(FloatProgress(value=0.0, max=649.0), HTML(value='')))"
      ]
     },
     "metadata": {},
     "output_type": "display_data"
    },
    {
     "name": "stdout",
     "output_type": "stream",
     "text": [
      "\n",
      "./GIF/7_lane.gif is saved\n",
      "118\n"
     ]
    },
    {
     "data": {
      "application/vnd.jupyter.widget-view+json": {
       "model_id": "7263e8ac16df4101a29f055e03eea0b7",
       "version_major": 2,
       "version_minor": 0
      },
      "text/plain": [
       "HBox(children=(FloatProgress(value=0.0, max=1120.0), HTML(value='')))"
      ]
     },
     "metadata": {},
     "output_type": "display_data"
    },
    {
     "name": "stdout",
     "output_type": "stream",
     "text": [
      "\n",
      "./GIF/8_lane.gif is saved\n",
      "139\n"
     ]
    },
    {
     "data": {
      "application/vnd.jupyter.widget-view+json": {
       "model_id": "450546e1c3a74a03a327ee3f4cefa2cd",
       "version_major": 2,
       "version_minor": 0
      },
      "text/plain": [
       "HBox(children=(FloatProgress(value=0.0, max=1266.0), HTML(value='')))"
      ]
     },
     "metadata": {},
     "output_type": "display_data"
    },
    {
     "name": "stdout",
     "output_type": "stream",
     "text": [
      "\n",
      "./GIF/9_lane.gif is saved\n",
      "88\n"
     ]
    },
    {
     "data": {
      "application/vnd.jupyter.widget-view+json": {
       "model_id": "d6c14c608f8d41849fb9afdfbd4f9e41",
       "version_major": 2,
       "version_minor": 0
      },
      "text/plain": [
       "HBox(children=(FloatProgress(value=0.0, max=383.0), HTML(value='')))"
      ]
     },
     "metadata": {},
     "output_type": "display_data"
    },
    {
     "name": "stdout",
     "output_type": "stream",
     "text": [
      "\n",
      "./GIF/10_lane.gif is saved\n",
      "111\n"
     ]
    },
    {
     "data": {
      "application/vnd.jupyter.widget-view+json": {
       "model_id": "061b6c80d5f0479a85fd6909fb7e1577",
       "version_major": 2,
       "version_minor": 0
      },
      "text/plain": [
       "HBox(children=(FloatProgress(value=0.0, max=936.0), HTML(value='')))"
      ]
     },
     "metadata": {},
     "output_type": "display_data"
    },
    {
     "name": "stdout",
     "output_type": "stream",
     "text": [
      "\n",
      "./GIF/11_lane.gif is saved\n",
      "110\n"
     ]
    },
    {
     "data": {
      "application/vnd.jupyter.widget-view+json": {
       "model_id": "8669a665f5504d0d8e8e5565992445ca",
       "version_major": 2,
       "version_minor": 0
      },
      "text/plain": [
       "HBox(children=(FloatProgress(value=0.0, max=1003.0), HTML(value='')))"
      ]
     },
     "metadata": {},
     "output_type": "display_data"
    },
    {
     "name": "stdout",
     "output_type": "stream",
     "text": [
      "\n",
      "./GIF/12_lane.gif is saved\n",
      "72\n"
     ]
    },
    {
     "data": {
      "application/vnd.jupyter.widget-view+json": {
       "model_id": "931efcfe4fe04e90a28029f7437f430e",
       "version_major": 2,
       "version_minor": 0
      },
      "text/plain": [
       "HBox(children=(FloatProgress(value=0.0, max=576.0), HTML(value='')))"
      ]
     },
     "metadata": {},
     "output_type": "display_data"
    },
    {
     "name": "stdout",
     "output_type": "stream",
     "text": [
      "\n",
      "./GIF/13_lane.gif is saved\n",
      "135\n"
     ]
    },
    {
     "data": {
      "application/vnd.jupyter.widget-view+json": {
       "model_id": "1bb9f5fdd75f4050a962e74651e41255",
       "version_major": 2,
       "version_minor": 0
      },
      "text/plain": [
       "HBox(children=(FloatProgress(value=0.0, max=1571.0), HTML(value='')))"
      ]
     },
     "metadata": {},
     "output_type": "display_data"
    },
    {
     "name": "stdout",
     "output_type": "stream",
     "text": [
      "\n",
      "./GIF/14_lane.gif is saved\n",
      "65\n"
     ]
    },
    {
     "data": {
      "application/vnd.jupyter.widget-view+json": {
       "model_id": "646cbe6656354df4a7b6f6442e5851c8",
       "version_major": 2,
       "version_minor": 0
      },
      "text/plain": [
       "HBox(children=(FloatProgress(value=0.0, max=453.0), HTML(value='')))"
      ]
     },
     "metadata": {},
     "output_type": "display_data"
    },
    {
     "name": "stdout",
     "output_type": "stream",
     "text": [
      "\n",
      "./GIF/15_lane.gif is saved\n",
      "147\n"
     ]
    },
    {
     "data": {
      "application/vnd.jupyter.widget-view+json": {
       "model_id": "88484fedff3341598622526108cf7e9a",
       "version_major": 2,
       "version_minor": 0
      },
      "text/plain": [
       "HBox(children=(FloatProgress(value=0.0, max=1137.0), HTML(value='')))"
      ]
     },
     "metadata": {},
     "output_type": "display_data"
    },
    {
     "name": "stdout",
     "output_type": "stream",
     "text": [
      "\n",
      "./GIF/16_lane.gif is saved\n",
      "129\n"
     ]
    },
    {
     "data": {
      "application/vnd.jupyter.widget-view+json": {
       "model_id": "62974987334248d389abbfa5da65c636",
       "version_major": 2,
       "version_minor": 0
      },
      "text/plain": [
       "HBox(children=(FloatProgress(value=0.0, max=1053.0), HTML(value='')))"
      ]
     },
     "metadata": {},
     "output_type": "display_data"
    },
    {
     "name": "stdout",
     "output_type": "stream",
     "text": [
      "\n",
      "./GIF/17_lane.gif is saved\n",
      "83\n"
     ]
    },
    {
     "data": {
      "application/vnd.jupyter.widget-view+json": {
       "model_id": "a41978b0825c4c958f46e4a7f3cac31f",
       "version_major": 2,
       "version_minor": 0
      },
      "text/plain": [
       "HBox(children=(FloatProgress(value=0.0, max=1100.0), HTML(value='')))"
      ]
     },
     "metadata": {},
     "output_type": "display_data"
    },
    {
     "name": "stdout",
     "output_type": "stream",
     "text": [
      "\n",
      "./GIF/18_lane.gif is saved\n",
      "78\n"
     ]
    },
    {
     "data": {
      "application/vnd.jupyter.widget-view+json": {
       "model_id": "2efeb4e64a354d67bb54a9e3b9249d5f",
       "version_major": 2,
       "version_minor": 0
      },
      "text/plain": [
       "HBox(children=(FloatProgress(value=0.0, max=465.0), HTML(value='')))"
      ]
     },
     "metadata": {},
     "output_type": "display_data"
    },
    {
     "name": "stdout",
     "output_type": "stream",
     "text": [
      "\n",
      "./GIF/19_lane.gif is saved\n",
      "73\n"
     ]
    },
    {
     "data": {
      "application/vnd.jupyter.widget-view+json": {
       "model_id": "165e37c0ed464af9827beb612dffa964",
       "version_major": 2,
       "version_minor": 0
      },
      "text/plain": [
       "HBox(children=(FloatProgress(value=0.0, max=862.0), HTML(value='')))"
      ]
     },
     "metadata": {},
     "output_type": "display_data"
    },
    {
     "name": "stdout",
     "output_type": "stream",
     "text": [
      "\n",
      "./GIF/20_lane.gif is saved\n",
      "198\n"
     ]
    },
    {
     "data": {
      "application/vnd.jupyter.widget-view+json": {
       "model_id": "401ea99084184d0b983e5bdd2d0b5272",
       "version_major": 2,
       "version_minor": 0
      },
      "text/plain": [
       "HBox(children=(FloatProgress(value=0.0, max=1256.0), HTML(value='')))"
      ]
     },
     "metadata": {},
     "output_type": "display_data"
    },
    {
     "name": "stdout",
     "output_type": "stream",
     "text": [
      "\n",
      "./GIF/21_lane.gif is saved\n",
      "93\n"
     ]
    },
    {
     "data": {
      "application/vnd.jupyter.widget-view+json": {
       "model_id": "428030fa4a484447b0bd372641ca167d",
       "version_major": 2,
       "version_minor": 0
      },
      "text/plain": [
       "HBox(children=(FloatProgress(value=0.0, max=962.0), HTML(value='')))"
      ]
     },
     "metadata": {},
     "output_type": "display_data"
    },
    {
     "name": "stdout",
     "output_type": "stream",
     "text": [
      "\n",
      "./GIF/22_lane.gif is saved\n",
      "77\n"
     ]
    },
    {
     "data": {
      "application/vnd.jupyter.widget-view+json": {
       "model_id": "1225cd5724334cc58e4d48ce5a9c8915",
       "version_major": 2,
       "version_minor": 0
      },
      "text/plain": [
       "HBox(children=(FloatProgress(value=0.0, max=717.0), HTML(value='')))"
      ]
     },
     "metadata": {},
     "output_type": "display_data"
    },
    {
     "name": "stdout",
     "output_type": "stream",
     "text": [
      "\n",
      "./GIF/23_lane.gif is saved\n",
      "141\n"
     ]
    },
    {
     "data": {
      "application/vnd.jupyter.widget-view+json": {
       "model_id": "a0c088beb8a2423288034b7005c43b8e",
       "version_major": 2,
       "version_minor": 0
      },
      "text/plain": [
       "HBox(children=(FloatProgress(value=0.0, max=1106.0), HTML(value='')))"
      ]
     },
     "metadata": {},
     "output_type": "display_data"
    },
    {
     "name": "stdout",
     "output_type": "stream",
     "text": [
      "\n",
      "./GIF/24_lane.gif is saved\n",
      "110\n"
     ]
    },
    {
     "data": {
      "application/vnd.jupyter.widget-view+json": {
       "model_id": "10439de887784615b9d1c3d914c53e2d",
       "version_major": 2,
       "version_minor": 0
      },
      "text/plain": [
       "HBox(children=(FloatProgress(value=0.0, max=477.0), HTML(value='')))"
      ]
     },
     "metadata": {},
     "output_type": "display_data"
    },
    {
     "name": "stdout",
     "output_type": "stream",
     "text": [
      "\n",
      "./GIF/25_lane.gif is saved\n",
      "45\n"
     ]
    },
    {
     "data": {
      "application/vnd.jupyter.widget-view+json": {
       "model_id": "c345319f358d4d0fbfce5d60a4bd2127",
       "version_major": 2,
       "version_minor": 0
      },
      "text/plain": [
       "HBox(children=(FloatProgress(value=0.0, max=620.0), HTML(value='')))"
      ]
     },
     "metadata": {},
     "output_type": "display_data"
    },
    {
     "name": "stdout",
     "output_type": "stream",
     "text": [
      "\n",
      "./GIF/26_lane.gif is saved\n",
      "58\n"
     ]
    },
    {
     "data": {
      "application/vnd.jupyter.widget-view+json": {
       "model_id": "53921aa9fbc24eeba7273f5d737762ee",
       "version_major": 2,
       "version_minor": 0
      },
      "text/plain": [
       "HBox(children=(FloatProgress(value=0.0, max=1667.0), HTML(value='')))"
      ]
     },
     "metadata": {},
     "output_type": "display_data"
    },
    {
     "name": "stdout",
     "output_type": "stream",
     "text": [
      "\n",
      "./GIF/27_lane.gif is saved\n",
      "82\n"
     ]
    },
    {
     "data": {
      "application/vnd.jupyter.widget-view+json": {
       "model_id": "cfaeac40470249d89cae2e303cdc567b",
       "version_major": 2,
       "version_minor": 0
      },
      "text/plain": [
       "HBox(children=(FloatProgress(value=0.0, max=574.0), HTML(value='')))"
      ]
     },
     "metadata": {},
     "output_type": "display_data"
    },
    {
     "name": "stdout",
     "output_type": "stream",
     "text": [
      "\n",
      "./GIF/28_lane.gif is saved\n",
      "27\n"
     ]
    },
    {
     "data": {
      "application/vnd.jupyter.widget-view+json": {
       "model_id": "e21c9cee07bd458aa025904c2d3ef057",
       "version_major": 2,
       "version_minor": 0
      },
      "text/plain": [
       "HBox(children=(FloatProgress(value=0.0, max=867.0), HTML(value='')))"
      ]
     },
     "metadata": {},
     "output_type": "display_data"
    },
    {
     "name": "stdout",
     "output_type": "stream",
     "text": [
      "\n",
      "./GIF/29_lane.gif is saved\n",
      "102\n"
     ]
    },
    {
     "data": {
      "application/vnd.jupyter.widget-view+json": {
       "model_id": "24d82d8049a9477c8fcbd8f26ab59fb5",
       "version_major": 2,
       "version_minor": 0
      },
      "text/plain": [
       "HBox(children=(FloatProgress(value=0.0, max=547.0), HTML(value='')))"
      ]
     },
     "metadata": {},
     "output_type": "display_data"
    },
    {
     "name": "stdout",
     "output_type": "stream",
     "text": [
      "\n",
      "./GIF/30_lane.gif is saved\n",
      "77\n"
     ]
    },
    {
     "data": {
      "application/vnd.jupyter.widget-view+json": {
       "model_id": "ffc42cb2bb2a47c3bcdcef1e84b29a9a",
       "version_major": 2,
       "version_minor": 0
      },
      "text/plain": [
       "HBox(children=(FloatProgress(value=0.0, max=1056.0), HTML(value='')))"
      ]
     },
     "metadata": {},
     "output_type": "display_data"
    },
    {
     "name": "stdout",
     "output_type": "stream",
     "text": [
      "\n",
      "./GIF/31_lane.gif is saved\n",
      "41\n"
     ]
    },
    {
     "data": {
      "application/vnd.jupyter.widget-view+json": {
       "model_id": "73865450f39d468bbf8ce0f1cf2951d3",
       "version_major": 2,
       "version_minor": 0
      },
      "text/plain": [
       "HBox(children=(FloatProgress(value=0.0, max=472.0), HTML(value='')))"
      ]
     },
     "metadata": {},
     "output_type": "display_data"
    },
    {
     "name": "stdout",
     "output_type": "stream",
     "text": [
      "\n",
      "./GIF/32_lane.gif is saved\n",
      "56\n"
     ]
    },
    {
     "data": {
      "application/vnd.jupyter.widget-view+json": {
       "model_id": "0d38a01ae29b4eeaae6ddbd16db045fb",
       "version_major": 2,
       "version_minor": 0
      },
      "text/plain": [
       "HBox(children=(FloatProgress(value=0.0, max=228.0), HTML(value='')))"
      ]
     },
     "metadata": {},
     "output_type": "display_data"
    },
    {
     "name": "stdout",
     "output_type": "stream",
     "text": [
      "\n",
      "./GIF/33_lane.gif is saved\n",
      "101\n"
     ]
    },
    {
     "data": {
      "application/vnd.jupyter.widget-view+json": {
       "model_id": "4ad24e5e581a495ba84b4c59a47c697c",
       "version_major": 2,
       "version_minor": 0
      },
      "text/plain": [
       "HBox(children=(FloatProgress(value=0.0, max=643.0), HTML(value='')))"
      ]
     },
     "metadata": {},
     "output_type": "display_data"
    },
    {
     "name": "stdout",
     "output_type": "stream",
     "text": [
      "\n",
      "./GIF/34_lane.gif is saved\n",
      "125\n"
     ]
    },
    {
     "data": {
      "application/vnd.jupyter.widget-view+json": {
       "model_id": "dac1874f3c4f4032a19dec1d09147a61",
       "version_major": 2,
       "version_minor": 0
      },
      "text/plain": [
       "HBox(children=(FloatProgress(value=0.0, max=1260.0), HTML(value='')))"
      ]
     },
     "metadata": {},
     "output_type": "display_data"
    },
    {
     "name": "stdout",
     "output_type": "stream",
     "text": [
      "\n",
      "./GIF/35_lane.gif is saved\n",
      "73\n"
     ]
    },
    {
     "data": {
      "application/vnd.jupyter.widget-view+json": {
       "model_id": "347c7c11f4a54ac9bc75453723916bc8",
       "version_major": 2,
       "version_minor": 0
      },
      "text/plain": [
       "HBox(children=(FloatProgress(value=0.0, max=689.0), HTML(value='')))"
      ]
     },
     "metadata": {},
     "output_type": "display_data"
    },
    {
     "name": "stdout",
     "output_type": "stream",
     "text": [
      "\n",
      "./GIF/36_lane.gif is saved\n",
      "38\n"
     ]
    },
    {
     "data": {
      "application/vnd.jupyter.widget-view+json": {
       "model_id": "3c5bf1c20e354363a9ce6f18030e7f3d",
       "version_major": 2,
       "version_minor": 0
      },
      "text/plain": [
       "HBox(children=(FloatProgress(value=0.0, max=445.0), HTML(value='')))"
      ]
     },
     "metadata": {},
     "output_type": "display_data"
    },
    {
     "name": "stdout",
     "output_type": "stream",
     "text": [
      "\n",
      "./GIF/37_lane.gif is saved\n",
      "212\n"
     ]
    },
    {
     "data": {
      "application/vnd.jupyter.widget-view+json": {
       "model_id": "6460af9c98614491854817fe48b5cc3b",
       "version_major": 2,
       "version_minor": 0
      },
      "text/plain": [
       "HBox(children=(FloatProgress(value=0.0, max=759.0), HTML(value='')))"
      ]
     },
     "metadata": {},
     "output_type": "display_data"
    },
    {
     "name": "stdout",
     "output_type": "stream",
     "text": [
      "\n",
      "./GIF/38_lane.gif is saved\n",
      "63\n"
     ]
    },
    {
     "data": {
      "application/vnd.jupyter.widget-view+json": {
       "model_id": "031ec40b472f433cb539b735e0dc58c0",
       "version_major": 2,
       "version_minor": 0
      },
      "text/plain": [
       "HBox(children=(FloatProgress(value=0.0, max=902.0), HTML(value='')))"
      ]
     },
     "metadata": {},
     "output_type": "display_data"
    },
    {
     "name": "stdout",
     "output_type": "stream",
     "text": [
      "\n",
      "./GIF/39_lane.gif is saved\n",
      "33\n"
     ]
    },
    {
     "data": {
      "application/vnd.jupyter.widget-view+json": {
       "model_id": "c2be841fa2dc427a87fc4b9b10aa6ec4",
       "version_major": 2,
       "version_minor": 0
      },
      "text/plain": [
       "HBox(children=(FloatProgress(value=0.0, max=459.0), HTML(value='')))"
      ]
     },
     "metadata": {},
     "output_type": "display_data"
    },
    {
     "name": "stdout",
     "output_type": "stream",
     "text": [
      "\n",
      "./GIF/40_lane.gif is saved\n",
      "74\n"
     ]
    },
    {
     "data": {
      "application/vnd.jupyter.widget-view+json": {
       "model_id": "1877317942274ff5bbd7680aa9d21e7b",
       "version_major": 2,
       "version_minor": 0
      },
      "text/plain": [
       "HBox(children=(FloatProgress(value=0.0, max=815.0), HTML(value='')))"
      ]
     },
     "metadata": {},
     "output_type": "display_data"
    },
    {
     "name": "stdout",
     "output_type": "stream",
     "text": [
      "\n",
      "./GIF/41_lane.gif is saved\n",
      "39\n"
     ]
    },
    {
     "data": {
      "application/vnd.jupyter.widget-view+json": {
       "model_id": "6ab2221259e6495dac28446e7e80db8b",
       "version_major": 2,
       "version_minor": 0
      },
      "text/plain": [
       "HBox(children=(FloatProgress(value=0.0, max=994.0), HTML(value='')))"
      ]
     },
     "metadata": {},
     "output_type": "display_data"
    },
    {
     "name": "stdout",
     "output_type": "stream",
     "text": [
      "\n",
      "./GIF/42_lane.gif is saved\n",
      "55\n"
     ]
    },
    {
     "data": {
      "application/vnd.jupyter.widget-view+json": {
       "model_id": "aa0f38d16201495fa385fda2d2f6fc8f",
       "version_major": 2,
       "version_minor": 0
      },
      "text/plain": [
       "HBox(children=(FloatProgress(value=0.0, max=476.0), HTML(value='')))"
      ]
     },
     "metadata": {},
     "output_type": "display_data"
    },
    {
     "name": "stdout",
     "output_type": "stream",
     "text": [
      "\n",
      "./GIF/43_lane.gif is saved\n",
      "100\n"
     ]
    },
    {
     "data": {
      "application/vnd.jupyter.widget-view+json": {
       "model_id": "2978a09ce7224914a5674cb73137da77",
       "version_major": 2,
       "version_minor": 0
      },
      "text/plain": [
       "HBox(children=(FloatProgress(value=0.0, max=1580.0), HTML(value='')))"
      ]
     },
     "metadata": {},
     "output_type": "display_data"
    },
    {
     "name": "stdout",
     "output_type": "stream",
     "text": [
      "\n",
      "./GIF/44_lane.gif is saved\n",
      "82\n"
     ]
    },
    {
     "data": {
      "application/vnd.jupyter.widget-view+json": {
       "model_id": "c255c832506e4cd29f27291fd5d1cf7b",
       "version_major": 2,
       "version_minor": 0
      },
      "text/plain": [
       "HBox(children=(FloatProgress(value=0.0, max=1437.0), HTML(value='')))"
      ]
     },
     "metadata": {},
     "output_type": "display_data"
    },
    {
     "name": "stdout",
     "output_type": "stream",
     "text": [
      "\n",
      "./GIF/45_lane.gif is saved\n",
      "90\n"
     ]
    },
    {
     "data": {
      "application/vnd.jupyter.widget-view+json": {
       "model_id": "ace16e65a81540ff87d1abdd088dd023",
       "version_major": 2,
       "version_minor": 0
      },
      "text/plain": [
       "HBox(children=(FloatProgress(value=0.0, max=1178.0), HTML(value='')))"
      ]
     },
     "metadata": {},
     "output_type": "display_data"
    },
    {
     "name": "stdout",
     "output_type": "stream",
     "text": [
      "\n",
      "./GIF/46_lane.gif is saved\n",
      "72\n"
     ]
    },
    {
     "data": {
      "application/vnd.jupyter.widget-view+json": {
       "model_id": "d2207706db234809ad8b699c36525dc4",
       "version_major": 2,
       "version_minor": 0
      },
      "text/plain": [
       "HBox(children=(FloatProgress(value=0.0, max=741.0), HTML(value='')))"
      ]
     },
     "metadata": {},
     "output_type": "display_data"
    },
    {
     "name": "stdout",
     "output_type": "stream",
     "text": [
      "\n",
      "./GIF/47_lane.gif is saved\n",
      "195\n"
     ]
    },
    {
     "data": {
      "application/vnd.jupyter.widget-view+json": {
       "model_id": "78198e5f01a64567835fe113e0e3d892",
       "version_major": 2,
       "version_minor": 0
      },
      "text/plain": [
       "HBox(children=(FloatProgress(value=0.0, max=1240.0), HTML(value='')))"
      ]
     },
     "metadata": {},
     "output_type": "display_data"
    },
    {
     "name": "stdout",
     "output_type": "stream",
     "text": [
      "\n",
      "./GIF/48_lane.gif is saved\n",
      "126\n"
     ]
    },
    {
     "data": {
      "application/vnd.jupyter.widget-view+json": {
       "model_id": "7fb23ae798874c76a055555e4ec24da4",
       "version_major": 2,
       "version_minor": 0
      },
      "text/plain": [
       "HBox(children=(FloatProgress(value=0.0, max=1771.0), HTML(value='')))"
      ]
     },
     "metadata": {},
     "output_type": "display_data"
    },
    {
     "name": "stdout",
     "output_type": "stream",
     "text": [
      "\n",
      "./GIF/49_lane.gif is saved\n"
     ]
    }
   ],
   "source": [
    "import os\n",
    "import numpy as np\n",
    "import pandas as pd\n",
    "from tqdm.notebook import tqdm\n",
    "from matplotlib import pyplot as plt\n",
    "\n",
    "import matplotlib.pyplot as plt\n",
    "import numpy as np\n",
    "import imageio\n",
    "from PIL import Image\n",
    "import matplotlib.image as mpimg\n",
    "\n",
    "index = 0\n",
    "\n",
    "root_dir = \"argoverse_raw/train/\"\n",
    "file_list = sorted(os.listdir(root_dir), key = lambda a: int(a.split('.')[0]))\n",
    "\n",
    "color = {\"AGENT\" : \"blue\", \"AV\" : \"orange\", \"OTHERS\" : \"gray\"}\n",
    "\n",
    "\n",
    "from argoverse.map_representation.map_api import ArgoverseMap\n",
    "\n",
    "am = ArgoverseMap()\n",
    "\n",
    "\n",
    "\n",
    "\n",
    "\n",
    "\n",
    "\n",
    "for index in range(50):\n",
    "#     print(index)\n",
    "    trajectory = {}\n",
    "    trajectory[\"AV\"] = np.empty((0,2))\n",
    "    trajectory[\"AGENT\"] = np.empty((0,2))\n",
    "    trajectory[\"OTHERS\"] = np.empty((0,2))\n",
    "    num_figname = 1\n",
    "\n",
    "    csv = pd.read_csv(root_dir + file_list[index])\n",
    "\n",
    "    xmax,xmin = max(csv[\"X\"]), min(csv[\"X\"])\n",
    "    ymax,ymin = max(csv[\"Y\"]), min(csv[\"Y\"])\n",
    "    local_lane_polygons = am.find_local_lane_polygons([xmin, xmax, ymin, ymax], csv[\"CITY_NAME\"][0])\n",
    "    print(len(local_lane_polygons))\n",
    "    plt.xlim(xmin-20, xmax + 20)\n",
    "    plt.ylim(ymin-20, ymax + 20)\n",
    "\n",
    "    time_step = csv[\"TIMESTAMP\"][0]\n",
    "    X = csv[\"OBJECT_TYPE\"]\n",
    "    Y = csv[\"Y\"]\n",
    "\n",
    "    length = len(csv[\"TIMESTAMP\"])\n",
    "\n",
    "    for i in tqdm(range(length)):\n",
    "        x,y,OT = csv[\"X\"][i], csv[\"Y\"][i], csv[\"OBJECT_TYPE\"][i]\n",
    "        if time_step != csv[\"TIMESTAMP\"][i]:\n",
    "            for l in local_lane_polygons:\n",
    "                x_l = l[...,0]\n",
    "                y_l = l[...,1]\n",
    "                plt.plot(x_l,y_l,linewidth=0.5, color = 'gray')\n",
    "            try:\n",
    "                for j in [\"AV\", \"AGENT\"]:\n",
    "                    plt.plot(trajectory[j][...,0],trajectory[j][...,1],color=color[j], zorder=1)\n",
    "                    plt.scatter(trajectory[j][...,0][-1], trajectory[j][...,1][-1],color=color[j], zorder=1, label = j)\n",
    "\n",
    "                plt.scatter(trajectory[\"OTHERS\"][...,0], trajectory[\"OTHERS\"][...,1], color = color[\"OTHERS\"], label = \"OTHERS\")\n",
    "                trajectory[\"OTHERS\"] = np.empty((0,2))\n",
    "\n",
    "            except:\n",
    "                pass\n",
    "                print(\"pass\")\n",
    "                break\n",
    "            plt.legend()\n",
    "            plt.title(\"time_step: %.4f\"%time_step )\n",
    "\n",
    "            plt.savefig(\"ToGIF/\" + str(num_figname).zfill(3) + \".png\")\n",
    "            num_figname +=1\n",
    "            plt.cla()\n",
    "            plt.xlim(xmin-20, xmax + 20)\n",
    "            plt.ylim(ymin-20, ymax + 20)\n",
    "            time_step = csv[\"TIMESTAMP\"][i]\n",
    "\n",
    "        elif i == length - 1:\n",
    "            plt.scatter(x, y, color = color[OT], label = OT)\n",
    "            trajectory[OT] = np.append(trajectory[OT],np.array([[x, y]]), axis=0)\n",
    "            for l in local_lane_polygons:\n",
    "                x_l = l[...,0]\n",
    "                y_l = l[...,1]\n",
    "                plt.plot(x_l,y_l,linewidth=0.5, color = 'gray')\n",
    "            try:\n",
    "                for j in [\"AV\", \"AGENT\"]:\n",
    "                    plt.plot(trajectory[j][...,0],trajectory[j][...,1],color=color[j], zorder=1, )\n",
    "                    plt.scatter(trajectory[j][...,0][-1], trajectory[j][...,1][-1],color=color[j], zorder=1, label = j)\n",
    "\n",
    "                plt.scatter(trajectory[\"OTHERS\"][...,0], trajectory[\"OTHERS\"][...,1], color = color[\"OTHERS\"], label = \"OTHERS\")\n",
    "                trajectory[\"OTHERS\"] = np.empty((0,2))\n",
    "                trajectory[\"AV\"] = np.empty((0,2))\n",
    "                trajectory[\"AGENT\"] = np.empty((0,2))\n",
    "            except:\n",
    "                pass\n",
    "                print(\"pass\")\n",
    "                break\n",
    "            plt.legend()\n",
    "            plt.title(\"time_step: %.4f\"%time_step )\n",
    "            plt.savefig(\"ToGIF/\" + str(num_figname).zfill(3) + \".png\")\n",
    "            plt.close()\n",
    "            break\n",
    "        trajectory[OT] = np.append(trajectory[OT],np.array([[x, y]]), axis=0)\n",
    "\n",
    "\n",
    "\n",
    "    path = [f\"./ToGIF/{j}\" for j in sorted(os.listdir(\"./ToGIF\"), key= lambda a: int(a.split('.')[0]))]\n",
    "    paths = [Image.open(j) for j in path]\n",
    "    imageio.mimsave('./GIF/' + str(index) + '_lane.gif', paths, fps=22)\n",
    "    print('./GIF/' + str(index) + '_lane.gif is saved')\n",
    "    !rm ToGIF/*\n"
   ]
  },
  {
   "cell_type": "code",
   "execution_count": 17,
   "metadata": {
    "ExecuteTime": {
     "end_time": "2020-10-30T19:42:31.816473Z",
     "start_time": "2020-10-30T19:42:26.988708Z"
    },
    "scrolled": true
   },
   "outputs": [
    {
     "data": {
      "image/png": "[encoded data removed]",
      "text/plain": [
       "<Figure size 432x288 with 1 Axes>"
      ]
     },
     "metadata": {
      "needs_background": "light"
     },
     "output_type": "display_data"
    }
   ],
   "source": [
    "local_lane_polygons = am.find_local_lane_polygons([xmin, xmax, ymin, ymax], csv[\"CITY_NAME\"][0])\n",
    "for l in local_lane_polygons:\n",
    "    x_l = l[...,0]\n",
    "    y_l = l[...,1]\n",
    "    plt.plot(x_l,y_l,linewidth=0.5, color = 'gray')\n",
    "plt.show()"
   ]
  },
  {
   "cell_type": "code",
   "execution_count": 16,
   "metadata": {
    "ExecuteTime": {
     "end_time": "2020-10-30T19:42:15.120238Z",
     "start_time": "2020-10-30T19:42:15.116253Z"
    }
   },
   "outputs": [
    {
     "data": {
      "text/plain": [
       "[640.5452197174783, 715.5208021523538, 3802.248276968051, 4003.0806010870797]"
      ]
     },
     "execution_count": 16,
     "metadata": {},
     "output_type": "execute_result"
    }
   ],
   "source": [
    "[xmin, xmax, ymin, ymax]"
   ]
  },
  {
   "cell_type": "code",
   "execution_count": 14,
   "metadata": {
    "ExecuteTime": {
     "end_time": "2020-10-30T19:41:53.570436Z",
     "start_time": "2020-10-30T19:41:53.566907Z"
    }
   },
   "outputs": [
    {
     "data": {
      "text/plain": [
       "array([], dtype=object)"
      ]
     },
     "execution_count": 14,
     "metadata": {},
     "output_type": "execute_result"
    }
   ],
   "source": [
    "local_lane_polygons"
   ]
  },
  {
   "cell_type": "code",
   "execution_count": 3,
   "metadata": {
    "ExecuteTime": {
     "end_time": "2020-10-30T17:43:56.830839Z",
     "start_time": "2020-10-30T17:43:50.618356Z"
    }
   },
   "outputs": [],
   "source": [
    "tracking_dataset_dir = '../argoverse-api/argoverse-tracking/sample/'\n",
    "\n",
    "from argoverse.map_representation.map_api import ArgoverseMap\n",
    "\n",
    "am = ArgoverseMap()\n"
   ]
  },
  {
   "cell_type": "code",
   "execution_count": 4,
   "metadata": {
    "ExecuteTime": {
     "end_time": "2020-10-30T17:43:56.904684Z",
     "start_time": "2020-10-30T17:43:56.832356Z"
    }
   },
   "outputs": [],
   "source": [
    "from argoverse.data_loading.argoverse_tracking_loader import ArgoverseTrackingLoader\n",
    "\n",
    "log_index = 0\n",
    "frame_index = 20\n",
    "idx = 1\n",
    "argoverse_loader = ArgoverseTrackingLoader(tracking_dataset_dir)\n",
    "log_id = argoverse_loader.log_list[log_index]\n",
    "argoverse_data = argoverse_loader[log_index]\n",
    "city_name = argoverse_data.city_name\n",
    "\n",
    "lidar_pts = argoverse_data.get_lidar(idx)\n"
   ]
  },
  {
   "cell_type": "code",
   "execution_count": 10,
   "metadata": {
    "ExecuteTime": {
     "end_time": "2020-10-30T17:46:16.388368Z",
     "start_time": "2020-10-30T17:46:16.119924Z"
    }
   },
   "outputs": [
    {
     "data": {
      "image/png": "[encoded data removed]",
      "text/plain": [
       "<Figure size 432x288 with 1 Axes>"
      ]
     },
     "metadata": {
      "needs_background": "light"
     },
     "output_type": "display_data"
    }
   ],
   "source": [
    "import os\n",
    "import numpy as np\n",
    "import pandas as pd\n",
    "from tqdm.notebook import tqdm\n",
    "from matplotlib import pyplot as plt\n",
    "\n",
    "import matplotlib.pyplot as plt\n",
    "import numpy as np\n",
    "import imageio\n",
    "from PIL import Image\n",
    "import matplotlib.image as mpimg\n",
    "\n",
    "index = 0\n",
    "\n",
    "root_dir = \"data/argoverse_raw/train/\"\n",
    "file_list = sorted(os.listdir(root_dir), key = lambda a: int(a.split('.')[0]))\n",
    "\n",
    "color = {\"AGENT\" : \"blue\", \"AV\" : \"orange\", \"OTHERS\" : \"gray\"}\n",
    "\n",
    "\n",
    "trajectory = {}\n",
    "trajectory[\"AV\"] = np.empty((0,2))\n",
    "trajectory[\"AGENT\"] = np.empty((0,2))\n",
    "trajectory[\"OTHERS\"] = np.empty((0,2))\n",
    "num_figname = 1\n",
    "\n",
    "csv = pd.read_csv(root_dir + file_list[index])\n",
    "\n",
    "xmax,xmin = max(csv[\"X\"]), min(csv[\"X\"])\n",
    "ymax,ymin = max(csv[\"Y\"]), min(csv[\"Y\"])\n",
    "\n",
    "plt.xlim(xmin-20, xmax + 20)\n",
    "plt.ylim(ymin-20, ymax + 20)\n",
    "\n",
    "time_step = csv[\"TIMESTAMP\"][0]\n",
    "X = csv[\"OBJECT_TYPE\"]\n",
    "Y = csv[\"Y\"]\n",
    "\n",
    "length = len(csv[\"TIMESTAMP\"])"
   ]
  },
  {
   "cell_type": "code",
   "execution_count": 11,
   "metadata": {
    "ExecuteTime": {
     "end_time": "2020-10-30T17:46:22.694558Z",
     "start_time": "2020-10-30T17:46:22.680234Z"
    }
   },
   "outputs": [],
   "source": [
    "local_lane_polygons = am.find_local_lane_polygons([xmin, xmax, ymin, ymax], csv[\"CITY_NAME\"][0])\n"
   ]
  },
  {
   "cell_type": "code",
   "execution_count": 18,
   "metadata": {
    "ExecuteTime": {
     "end_time": "2020-10-30T19:49:44.910147Z",
     "start_time": "2020-10-30T19:49:44.419953Z"
    }
   },
   "outputs": [],
   "source": [
    "import torch\n"
   ]
  },
  {
   "cell_type": "code",
   "execution_count": 94,
   "metadata": {
    "ExecuteTime": {
     "end_time": "2020-10-30T20:16:07.875884Z",
     "start_time": "2020-10-30T20:16:07.869813Z"
    }
   },
   "outputs": [],
   "source": [
    "adjacency = torch.rand(10,10)\n",
    "num_agent_mask1 = torch.Tensor([[1,1,0.3,1,1]])\n",
    "num_agent_mask2 = torch.Tensor([[1,1,0.8,1,1]])"
   ]
  },
  {
   "cell_type": "code",
   "execution_count": 117,
   "metadata": {
    "ExecuteTime": {
     "end_time": "2020-10-30T20:21:48.057967Z",
     "start_time": "2020-10-30T20:21:48.054484Z"
    }
   },
   "outputs": [],
   "source": [
    "num_agent_mask = []\n",
    "for i in range(11):\n",
    "    num_agent_mask.append(torch.rand(1,11))\n"
   ]
  },
  {
   "cell_type": "code",
   "execution_count": 118,
   "metadata": {
    "ExecuteTime": {
     "end_time": "2020-10-30T20:21:48.261766Z",
     "start_time": "2020-10-30T20:21:48.252418Z"
    }
   },
   "outputs": [
    {
     "name": "stdout",
     "output_type": "stream",
     "text": [
      "num_agent_mask 0:  tensor([[0.1013, 0.4769, 0.3640, 0.6623, 0.8702, 0.9721, 0.5173, 0.7390, 0.5709,\n",
      "         0.3192, 0.5662]])\n",
      "num_agent_mask 1:  tensor([[0.8349, 0.8712, 0.5421, 0.3144, 0.8351, 0.7285, 0.3044, 0.4971, 0.0654,\n",
      "         0.0495, 0.3548]])\n",
      "num_agent_mask 2:  tensor([[0.0880, 0.4524, 0.1552, 0.3093, 0.3516, 0.5038, 0.3321, 0.5478, 0.8967,\n",
      "         0.4128, 0.8510]])\n",
      "num_agent_mask 3:  tensor([[0.9656, 0.2808, 0.6689, 0.0536, 0.1490, 0.8947, 0.6106, 0.1925, 0.2094,\n",
      "         0.7012, 0.7778]])\n",
      "num_agent_mask 4:  tensor([[0.8585, 0.4115, 0.5463, 0.9295, 0.5451, 0.0750, 0.4689, 0.0067, 0.6010,\n",
      "         0.0909, 0.8923]])\n",
      "num_agent_mask 5:  tensor([[0.5660, 0.2109, 0.7820, 0.1541, 0.0398, 0.9452, 0.9394, 0.2608, 0.6562,\n",
      "         0.9395, 0.4706]])\n",
      "num_agent_mask 6:  tensor([[0.4320, 0.5874, 0.2214, 0.4471, 0.2218, 0.9894, 0.4767, 0.5168, 0.3923,\n",
      "         0.7884, 0.1844]])\n",
      "num_agent_mask 7:  tensor([[0.3965, 0.7434, 0.9210, 0.7469, 0.5152, 0.3394, 0.6785, 0.5253, 0.6807,\n",
      "         0.4082, 0.0179]])\n",
      "num_agent_mask 8:  tensor([[0.5948, 0.6417, 0.7088, 0.1641, 0.3146, 0.4157, 0.5128, 0.7927, 0.4017,\n",
      "         0.0665, 0.8086]])\n",
      "num_agent_mask 9:  tensor([[0.3335, 0.6212, 0.7437, 0.6118, 0.4929, 0.1271, 0.5978, 0.2348, 0.6827,\n",
      "         0.2247, 0.7201]])\n",
      "num_agent_mask 10:  tensor([[0.0294, 0.7123, 0.3915, 0.8241, 0.9953, 0.7797, 0.6366, 0.4018, 0.1594,\n",
      "         0.2440, 0.2143]])\n"
     ]
    }
   ],
   "source": [
    "num = 0\n",
    "for i in num_agent_mask:\n",
    "    print(\"num_agent_mask \" + str(num) + \": \", i)\n",
    "    num+=1\n",
    "    "
   ]
  },
  {
   "cell_type": "markdown",
   "metadata": {
    "ExecuteTime": {
     "end_time": "2020-10-30T19:50:12.450351Z",
     "start_time": "2020-10-30T19:50:12.420297Z"
    }
   },
   "source": [
    "adjacency"
   ]
  },
  {
   "cell_type": "code",
   "execution_count": 120,
   "metadata": {
    "ExecuteTime": {
     "end_time": "2020-10-30T20:24:44.922274Z",
     "start_time": "2020-10-30T20:24:44.917249Z"
    }
   },
   "outputs": [
    {
     "data": {
      "text/plain": [
       "tensor([[2.0340e-01, 9.8018e-01, 5.9276e-01, 5.6608e-01, 5.2921e-01, 7.3613e-01,\n",
       "         5.3161e-01, 6.1163e-01, 6.8068e-01, 5.5828e-01],\n",
       "        [6.0616e-01, 1.5218e-01, 9.9071e-02, 7.9985e-01, 5.1474e-01, 8.1126e-01,\n",
       "         9.6187e-01, 7.1541e-01, 4.0373e-01, 4.1584e-03],\n",
       "        [6.1968e-02, 5.8127e-01, 8.4022e-01, 9.5129e-01, 9.5905e-01, 4.6290e-01,\n",
       "         7.3913e-01, 6.0182e-01, 2.7469e-01, 1.7079e-01],\n",
       "        [3.7596e-01, 6.2782e-01, 1.2419e-01, 8.6973e-01, 2.5734e-01, 6.7242e-01,\n",
       "         8.9878e-01, 6.7018e-01, 1.9631e-01, 6.0446e-02],\n",
       "        [8.5386e-01, 5.0087e-01, 9.7318e-01, 9.5431e-01, 2.6323e-01, 5.6121e-01,\n",
       "         9.2826e-01, 9.0787e-01, 5.3491e-01, 2.7087e-02],\n",
       "        [1.6519e-01, 3.2959e-01, 9.0574e-01, 2.5885e-01, 2.5194e-01, 7.7683e-01,\n",
       "         9.8949e-01, 3.7601e-01, 9.9803e-01, 9.7052e-01],\n",
       "        [2.8935e-01, 7.8965e-01, 3.9247e-01, 5.8408e-01, 2.5208e-01, 5.4293e-01,\n",
       "         2.9844e-01, 2.0673e-01, 8.9610e-01, 2.2326e-01],\n",
       "        [3.5123e-01, 3.0286e-01, 5.4722e-01, 5.8823e-01, 6.8265e-01, 8.8148e-01,\n",
       "         2.2888e-01, 3.8877e-01, 5.6708e-01, 4.5865e-01],\n",
       "        [5.6058e-04, 8.9987e-02, 3.0183e-01, 2.1870e-01, 8.1464e-01, 7.8555e-01,\n",
       "         3.8133e-01, 5.3683e-01, 7.2945e-01, 7.5747e-01],\n",
       "        [5.4396e-01, 3.6374e-01, 4.8582e-01, 9.5815e-01, 8.9400e-02, 5.3166e-01,\n",
       "         6.7496e-03, 4.5861e-01, 5.8372e-01, 5.0994e-01]])"
      ]
     },
     "execution_count": 120,
     "metadata": {},
     "output_type": "execute_result"
    }
   ],
   "source": [
    "adjacency"
   ]
  },
  {
   "cell_type": "code",
   "execution_count": 96,
   "metadata": {
    "ExecuteTime": {
     "end_time": "2020-10-30T20:16:09.924443Z",
     "start_time": "2020-10-30T20:16:09.919963Z"
    }
   },
   "outputs": [
    {
     "data": {
      "text/plain": [
       "tensor([[1.0000, 1.0000, 0.3000, 1.0000, 1.0000],\n",
       "        [1.0000, 1.0000, 0.8000, 1.0000, 1.0000]])"
      ]
     },
     "execution_count": 96,
     "metadata": {},
     "output_type": "execute_result"
    }
   ],
   "source": [
    "torch.cat((num_agent_mask1,num_agent_mask2))"
   ]
  },
  {
   "cell_type": "code",
   "execution_count": 78,
   "metadata": {
    "ExecuteTime": {
     "end_time": "2020-10-30T20:06:59.414209Z",
     "start_time": "2020-10-30T20:06:59.407167Z"
    },
    "scrolled": false
   },
   "outputs": [
    {
     "data": {
      "text/plain": [
       "tensor([[1., 1., 1., 1., 1., 1., 1., 1., 1., 1., 1.],\n",
       "        [1., 1., 1., 1., 1., 1., 1., 1., 1., 1., 1.],\n",
       "        [1., 1., 1., 1., 1., 1., 1., 1., 1., 1., 1.],\n",
       "        [1., 1., 1., 1., 1., 1., 1., 1., 1., 1., 1.],\n",
       "        [1., 1., 1., 1., 1., 1., 1., 1., 1., 1., 1.],\n",
       "        [1., 1., 1., 1., 1., 1., 1., 1., 1., 1., 1.],\n",
       "        [1., 1., 1., 1., 1., 1., 1., 1., 1., 1., 1.],\n",
       "        [1., 1., 1., 1., 1., 1., 1., 1., 1., 1., 1.],\n",
       "        [1., 1., 1., 1., 1., 1., 1., 1., 1., 1., 1.],\n",
       "        [1., 1., 1., 1., 1., 1., 1., 1., 1., 1., 1.],\n",
       "        [1., 1., 1., 1., 1., 1., 1., 1., 1., 1., 1.]])"
      ]
     },
     "execution_count": 78,
     "metadata": {},
     "output_type": "execute_result"
    }
   ],
   "source": [
    "adjacency"
   ]
  },
  {
   "cell_type": "code",
   "execution_count": 119,
   "metadata": {
    "ExecuteTime": {
     "end_time": "2020-10-30T20:21:54.509963Z",
     "start_time": "2020-10-30T20:21:54.504185Z"
    }
   },
   "outputs": [
    {
     "data": {
      "text/plain": [
       "tensor([[0.1013, 0.4769, 0.3640, 0.6623, 0.8702, 0.9721, 0.5173, 0.7390, 0.5709,\n",
       "         0.3192, 0.5662],\n",
       "        [0.8349, 0.8712, 0.5421, 0.3144, 0.8351, 0.7285, 0.3044, 0.4971, 0.0654,\n",
       "         0.0495, 0.3548],\n",
       "        [0.0880, 0.4524, 0.1552, 0.3093, 0.3516, 0.5038, 0.3321, 0.5478, 0.8967,\n",
       "         0.4128, 0.8510],\n",
       "        [0.9656, 0.2808, 0.6689, 0.0536, 0.1490, 0.8947, 0.6106, 0.1925, 0.2094,\n",
       "         0.7012, 0.7778],\n",
       "        [0.8585, 0.4115, 0.5463, 0.9295, 0.5451, 0.0750, 0.4689, 0.0067, 0.6010,\n",
       "         0.0909, 0.8923],\n",
       "        [0.5660, 0.2109, 0.7820, 0.1541, 0.0398, 0.9452, 0.9394, 0.2608, 0.6562,\n",
       "         0.9395, 0.4706],\n",
       "        [0.4320, 0.5874, 0.2214, 0.4471, 0.2218, 0.9894, 0.4767, 0.5168, 0.3923,\n",
       "         0.7884, 0.1844],\n",
       "        [0.3965, 0.7434, 0.9210, 0.7469, 0.5152, 0.3394, 0.6785, 0.5253, 0.6807,\n",
       "         0.4082, 0.0179],\n",
       "        [0.5948, 0.6417, 0.7088, 0.1641, 0.3146, 0.4157, 0.5128, 0.7927, 0.4017,\n",
       "         0.0665, 0.8086],\n",
       "        [0.3335, 0.6212, 0.7437, 0.6118, 0.4929, 0.1271, 0.5978, 0.2348, 0.6827,\n",
       "         0.2247, 0.7201],\n",
       "        [0.0294, 0.7123, 0.3915, 0.8241, 0.9953, 0.7797, 0.6366, 0.4018, 0.1594,\n",
       "         0.2440, 0.2143]])"
      ]
     },
     "execution_count": 119,
     "metadata": {},
     "output_type": "execute_result"
    }
   ],
   "source": [
    "torch.cat(num_agent_mask,dim =0)"
   ]
  },
  {
   "cell_type": "code",
   "execution_count": null,
   "metadata": {},
   "outputs": [],
   "source": []
  }
 ],
 "metadata": {
  "kernelspec": {
   "display_name": "Python 3",
   "language": "python",
   "name": "python3"
  },
  "language_info": {
   "codemirror_mode": {
    "name": "ipython",
    "version": 3
   },
   "file_extension": ".py",
   "mimetype": "text/x-python",
   "name": "python",
   "nbconvert_exporter": "python",
   "pygments_lexer": "ipython3",
   "version": "3.7.6"
  },
  "toc": {
   "base_numbering": 1,
   "nav_menu": {},
   "number_sections": false,
   "sideBar": true,
   "skip_h1_title": false,
   "title_cell": "Table of Contents",
   "title_sidebar": "Contents",
   "toc_cell": false,
   "toc_position": {},
   "toc_section_display": true,
   "toc_window_display": false
  }
 },
 "nbformat": 4,
 "nbformat_minor": 4
}

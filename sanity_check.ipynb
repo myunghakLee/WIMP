{
 "cells": [
  {
   "cell_type": "code",
   "execution_count": 4,
   "metadata": {
    "ExecuteTime": {
     "end_time": "2020-12-03T20:57:04.753507Z",
     "start_time": "2020-12-03T20:57:04.686636Z"
    }
   },
   "outputs": [],
   "source": [
    "import os\n",
    "import pickle\n",
    "from tqdm.notebook import tqdm\n",
    "\n",
    "file_list = os.listdir(\"data/argoverse_processed_smoothing/train/\")"
   ]
  },
  {
   "cell_type": "code",
   "execution_count": 5,
   "metadata": {
    "ExecuteTime": {
     "end_time": "2020-12-03T20:58:27.529926Z",
     "start_time": "2020-12-03T20:57:05.321601Z"
    }
   },
   "outputs": [
    {
     "data": {
      "application/vnd.jupyter.widget-view+json": {
       "model_id": "86999c6bec04436fbc5aff67047b7b0c",
       "version_major": 2,
       "version_minor": 0
      },
      "text/plain": [
       "HBox(children=(FloatProgress(value=0.0, max=205942.0), HTML(value='')))"
      ]
     },
     "metadata": {},
     "output_type": "display_data"
    },
    {
     "name": "stdout",
     "output_type": "stream",
     "text": [
      "\n"
     ]
    }
   ],
   "source": [
    "import numpy as np\n",
    "\n",
    "def having_nan(arr):\n",
    "    nan_check = np.isnan(arr)\n",
    "    return (True in nan_check)\n",
    "\n",
    "def having_strange_size(arr):\n",
    "    if len(arr) == 0:\n",
    "        return False\n",
    "    \n",
    "    \n",
    "    arr_shape = (np.array(arr).shape)\n",
    "    if len(arr_shape) !=2 or arr_shape[1] !=2:\n",
    "        return True\n",
    "    else:\n",
    "        return False\n",
    "        \n",
    "    print(len(arr_shape))\n",
    "strange_file = []\n",
    "    \n",
    "for f in tqdm(file_list):\n",
    "    with open(\"data/argoverse_processed_smoothing/train/\" + f, 'rb') as f:\n",
    "        data = pickle.load(f)\n",
    "        checking_list = []\n",
    "        checking_list.append((data[\"AGENT\"][\"XY_FEATURES\"], \"AGENT_XY_FEATURES\"))\n",
    "        if \"LABELS\" in data[\"AGENT\"].keys():\n",
    "            checking_list.append((data[\"AGENT\"][\"LABELS\"], \"AGENT_LABELS\"))\n",
    "        for i,s in enumerate(data[\"SOCIAL\"]):\n",
    "            \n",
    "            checking_list.append((s[\"XY_FEATURES\"], \"SOCIAL_XY_FEATURES\"))\n",
    "            if \"LABELS\" in s.keys():\n",
    "                checking_list.append((s[\"LABELS\"], \"SOCIAL_LABELS\"))\n",
    "        \n",
    "        for c in checking_list:\n",
    "            if having_nan(c[0]):\n",
    "#                 print(\"=====================================having_nan=========================================\")\n",
    "#                 print(f)\n",
    "#                 print(c[0])\n",
    "#                 print(c[1])\n",
    "                print([c[0]])\n",
    "                assert False, \"\"\n",
    "                strange_file.append(data[\"PATH\"].split('/')[-1].split('.')[0])\n",
    "                break\n",
    "            if having_strange_size(c[0]):\n",
    "                print(\"====================================strange_size=======================================\")\n",
    "                print(f)\n",
    "                print(c[0])\n",
    "                print(c[1])\n"
   ]
  },
  {
   "cell_type": "code",
   "execution_count": 6,
   "metadata": {
    "ExecuteTime": {
     "end_time": "2020-12-03T20:58:30.306715Z",
     "start_time": "2020-12-03T20:58:30.302243Z"
    }
   },
   "outputs": [
    {
     "data": {
      "text/plain": [
       "0"
      ]
     },
     "execution_count": 6,
     "metadata": {},
     "output_type": "execute_result"
    }
   ],
   "source": [
    "len(strange_file)"
   ]
  }
 ],
 "metadata": {
  "kernelspec": {
   "display_name": "Python 3",
   "language": "python",
   "name": "python3"
  },
  "language_info": {
   "codemirror_mode": {
    "name": "ipython",
    "version": 3
   },
   "file_extension": ".py",
   "mimetype": "text/x-python",
   "name": "python",
   "nbconvert_exporter": "python",
   "pygments_lexer": "ipython3",
   "version": "3.7.6"
  },
  "toc": {
   "base_numbering": 1,
   "nav_menu": {},
   "number_sections": false,
   "sideBar": true,
   "skip_h1_title": false,
   "title_cell": "Table of Contents",
   "title_sidebar": "Contents",
   "toc_cell": false,
   "toc_position": {},
   "toc_section_display": true,
   "toc_window_display": false
  }
 },
 "nbformat": 4,
 "nbformat_minor": 4
}

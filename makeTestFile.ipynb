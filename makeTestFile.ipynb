{
 "cells": [
  {
   "cell_type": "code",
   "execution_count": 1,
   "metadata": {
    "ExecuteTime": {
     "end_time": "2020-12-14T20:04:50.274770Z",
     "start_time": "2020-12-14T20:04:50.270262Z"
    }
   },
   "outputs": [],
   "source": [
    "from matplotlib import pyplot as plt\n",
    "import numpy as np\n",
    "import json\n",
    "import math\n",
    "import csv\n",
    "import os"
   ]
  },
  {
   "cell_type": "code",
   "execution_count": 2,
   "metadata": {
    "ExecuteTime": {
     "end_time": "2020-12-14T20:04:50.651414Z",
     "start_time": "2020-12-14T20:04:50.646280Z"
    }
   },
   "outputs": [],
   "source": [
    "def denormalization(arr, angle, translation):\n",
    "\n",
    "    theta = (angle)/180*math.pi\n",
    "    c, s = np.cos(theta), np.sin(theta)\n",
    "    R = np.array(((c, -s), (s, c)))\n",
    "    \n",
    "    #rotate\n",
    "    arr = np.array(R.dot(arr.transpose())).transpose()\n",
    "    #translate\n",
    "    arr += translation\n",
    "#     arr[...,0] += (AGENT[19,0] - AGENT[0,0])\n",
    "#     arr[...,1] += (AGENT[19,1] - AGENT[0,1])\n",
    "    return arr"
   ]
  },
  {
   "cell_type": "code",
   "execution_count": 4,
   "metadata": {
    "ExecuteTime": {
     "end_time": "2020-12-14T20:04:59.147747Z",
     "start_time": "2020-12-14T20:04:59.141955Z"
    },
    "scrolled": true
   },
   "outputs": [],
   "source": [
    "\n",
    "def prediction(root_dir, file):\n",
    "    json_dict = {}\n",
    "\n",
    "    with open(root_dir + file, 'r') as json_data:\n",
    "        json_dict = json.load(json_data)\n",
    "\n",
    "    preds = np.array(json_dict['preds'][0])[...,:2]\n",
    "    preds = np.array([denormalization(p, -json_dict['rotation'], -np.array(json_dict['translation'])) for p in preds])\n",
    "    seq_id = int(json_dict['csv_file'].split('.')[0])\n",
    "    return preds, seq_id\n"
   ]
  },
  {
   "cell_type": "code",
   "execution_count": 7,
   "metadata": {
    "ExecuteTime": {
     "end_time": "2020-12-14T20:09:50.489408Z",
     "start_time": "2020-12-14T20:09:49.409969Z"
    }
   },
   "outputs": [
    {
     "name": "stderr",
     "output_type": "stream",
     "text": [
      "/opt/conda/lib/python3.7/site-packages/sklearn/utils/deprecation.py:144: FutureWarning: The sklearn.cluster.dbscan_ module is  deprecated in version 0.22 and will be removed in version 0.24. The corresponding classes / functions should instead be imported from sklearn.cluster. Anything that cannot be imported from sklearn.cluster is now part of the private API.\n",
      "  warnings.warn(message, FutureWarning)\n"
     ]
    }
   ],
   "source": [
    "from tqdm.notebook import tqdm\n",
    "from argoverse.evaluation.competition_util import generate_forecasting_h5\n",
    "\n",
    "\n",
    "\n"
   ]
  },
  {
   "cell_type": "code",
   "execution_count": 9,
   "metadata": {
    "ExecuteTime": {
     "end_time": "2020-12-14T20:23:52.661431Z",
     "start_time": "2020-12-14T20:10:07.661589Z"
    }
   },
   "outputs": [
    {
     "name": "stdout",
     "output_type": "stream",
     "text": [
      "['ResultsJson/BEST_smoothing_smoothing/', 'ResultsJson/LAST_smoothing_nonsmoothing/', 'ResultsJson/LAST_smoothing_smoothing/', 'ResultsJson/BEST_smoothing_nonsmoothing/']\n",
      "['competition_files/BEST_smoothing_smoothing/', 'competition_files/LAST_smoothing_nonsmoothing/', 'competition_files/LAST_smoothing_smoothing/', 'competition_files/BEST_smoothing_nonsmoothing/']\n"
     ]
    },
    {
     "data": {
      "application/vnd.jupyter.widget-view+json": {
       "model_id": "fb4f9c763bca4d6d8b137925d3a2874b",
       "version_major": 2,
       "version_minor": 0
      },
      "text/plain": [
       "HBox(children=(FloatProgress(value=0.0, max=78143.0), HTML(value='')))"
      ]
     },
     "metadata": {},
     "output_type": "display_data"
    },
    {
     "name": "stdout",
     "output_type": "stream",
     "text": [
      "\n",
      "78143/78143"
     ]
    },
    {
     "data": {
      "application/vnd.jupyter.widget-view+json": {
       "model_id": "f4006ebb10854ad786fc6aae3952e212",
       "version_major": 2,
       "version_minor": 0
      },
      "text/plain": [
       "HBox(children=(FloatProgress(value=0.0, max=78143.0), HTML(value='')))"
      ]
     },
     "metadata": {},
     "output_type": "display_data"
    },
    {
     "name": "stdout",
     "output_type": "stream",
     "text": [
      "\n",
      "78143/78143"
     ]
    },
    {
     "data": {
      "application/vnd.jupyter.widget-view+json": {
       "model_id": "79bcfc69989447d28ad5ecbb9ca4a73d",
       "version_major": 2,
       "version_minor": 0
      },
      "text/plain": [
       "HBox(children=(FloatProgress(value=0.0, max=78143.0), HTML(value='')))"
      ]
     },
     "metadata": {},
     "output_type": "display_data"
    },
    {
     "name": "stdout",
     "output_type": "stream",
     "text": [
      "\n",
      "78143/78143"
     ]
    },
    {
     "data": {
      "application/vnd.jupyter.widget-view+json": {
       "model_id": "f0092165f99646edb4ca5308fb9230cd",
       "version_major": 2,
       "version_minor": 0
      },
      "text/plain": [
       "HBox(children=(FloatProgress(value=0.0, max=78143.0), HTML(value='')))"
      ]
     },
     "metadata": {},
     "output_type": "display_data"
    },
    {
     "name": "stdout",
     "output_type": "stream",
     "text": [
      "\n",
      "78143/78143"
     ]
    }
   ],
   "source": [
    "\n",
    "\n",
    "\n",
    "root_dir = [\"ResultsJson/\" + d + \"/\" for d in(os.listdir(\"ResultsJson\"))]\n",
    "output_path = [\"competition_files/\" + d + \"/\" for d in(os.listdir(\"ResultsJson\"))]\n",
    "print(root_dir)\n",
    "print(output_path)\n",
    "for i in range(len(root_dir)):\n",
    "    os.makedirs(output_path[i], exist_ok = True)\n",
    "\n",
    "    file_list = os.listdir(root_dir[i])\n",
    "    output_all = {}\n",
    "    for file in tqdm(file_list):\n",
    "        p, seq_id = prediction(root_dir[i], file)\n",
    "        output_all[seq_id] = p \n",
    "    generate_forecasting_h5(output_all, output_path[i]) #this might take awhile"
   ]
  },
  {
   "cell_type": "code",
   "execution_count": null,
   "metadata": {},
   "outputs": [],
   "source": []
  }
 ],
 "metadata": {
  "kernelspec": {
   "display_name": "Python 3",
   "language": "python",
   "name": "python3"
  },
  "language_info": {
   "codemirror_mode": {
    "name": "ipython",
    "version": 3
   },
   "file_extension": ".py",
   "mimetype": "text/x-python",
   "name": "python",
   "nbconvert_exporter": "python",
   "pygments_lexer": "ipython3",
   "version": "3.7.6"
  },
  "toc": {
   "base_numbering": 1,
   "nav_menu": {},
   "number_sections": false,
   "sideBar": true,
   "skip_h1_title": false,
   "title_cell": "Table of Contents",
   "title_sidebar": "Contents",
   "toc_cell": false,
   "toc_position": {},
   "toc_section_display": true,
   "toc_window_display": false
  }
 },
 "nbformat": 4,
 "nbformat_minor": 4
}

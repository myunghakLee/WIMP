{
 "cells": [
  {
   "cell_type": "code",
   "execution_count": 7,
   "metadata": {
    "ExecuteTime": {
     "end_time": "2020-11-08T07:12:40.858326Z",
     "start_time": "2020-11-08T07:12:40.855032Z"
    }
   },
   "outputs": [],
   "source": [
    "from matplotlib import pyplot as plt\n",
    "import numpy as np\n",
    "import json\n",
    "import math\n",
    "import csv\n",
    "import os"
   ]
  },
  {
   "cell_type": "code",
   "execution_count": 8,
   "metadata": {
    "ExecuteTime": {
     "end_time": "2020-11-08T07:12:41.175690Z",
     "start_time": "2020-11-08T07:12:41.170602Z"
    }
   },
   "outputs": [],
   "source": [
    "def denormalization(arr, angle, translation):\n",
    "\n",
    "    theta = (angle)/180*math.pi\n",
    "    c, s = np.cos(theta), np.sin(theta)\n",
    "    R = np.array(((c, -s), (s, c)))\n",
    "    \n",
    "    #rotate\n",
    "    arr = np.array(R.dot(arr.transpose())).transpose()\n",
    "    #translate\n",
    "    arr += translation\n",
    "#     arr[...,0] += (AGENT[19,0] - AGENT[0,0])\n",
    "#     arr[...,1] += (AGENT[19,1] - AGENT[0,1])\n",
    "    return arr"
   ]
  },
  {
   "cell_type": "code",
   "execution_count": 9,
   "metadata": {
    "ExecuteTime": {
     "end_time": "2020-11-08T07:12:41.495132Z",
     "start_time": "2020-11-08T07:12:41.489963Z"
    },
    "scrolled": true
   },
   "outputs": [],
   "source": [
    "\n",
    "def prediction(root_dir, file):\n",
    "    json_dict = {}\n",
    "\n",
    "    with open(root_dir + file, 'r') as json_data:\n",
    "        json_dict = json.load(json_data)\n",
    "\n",
    "    preds = np.array(json_dict['preds'][0])[...,:2]\n",
    "    preds = np.array([denormalization(p, -json_dict['rotation'], -np.array(json_dict['translation'])) for p in preds])\n",
    "    seq_id = int(json_dict['csv_file'].split('.')[0])\n",
    "    return preds, seq_id\n",
    "#     for p in preds:\n",
    "#         plt.plot(p[...,0],p[...,1])\n",
    "#         plt.scatter(p[...,0][-1],p[...,1][-1])\n",
    "\n",
    "\n",
    "#     plt.plot()\n",
    "#     plt.show()\n"
   ]
  },
  {
   "cell_type": "code",
   "execution_count": 16,
   "metadata": {
    "ExecuteTime": {
     "end_time": "2020-11-08T08:57:29.652478Z",
     "start_time": "2020-11-08T08:50:08.634475Z"
    }
   },
   "outputs": [
    {
     "data": {
      "application/vnd.jupyter.widget-view+json": {
       "model_id": "b75323a7759348c1bdd336704e4b2f9f",
       "version_major": 2,
       "version_minor": 0
      },
      "text/plain": [
       "HBox(children=(FloatProgress(value=0.0, max=78143.0), HTML(value='')))"
      ]
     },
     "metadata": {},
     "output_type": "display_data"
    },
    {
     "name": "stdout",
     "output_type": "stream",
     "text": [
      "\n"
     ]
    }
   ],
   "source": [
    "from tqdm.notebook import tqdm\n",
    "root_dir = \"results/epoch116/\"\n",
    "file_list = os.listdir(root_dir)\n",
    "output_all = {}\n",
    "for file in tqdm(file_list):\n",
    "    p, seq_id = prediction(root_dir, file)\n",
    "    output_all[seq_id] = p "
   ]
  },
  {
   "cell_type": "code",
   "execution_count": 17,
   "metadata": {
    "ExecuteTime": {
     "end_time": "2020-11-08T09:08:57.492609Z",
     "start_time": "2020-11-08T08:57:29.661706Z"
    }
   },
   "outputs": [
    {
     "name": "stdout",
     "output_type": "stream",
     "text": [
      "78143/78143"
     ]
    }
   ],
   "source": [
    "from argoverse.evaluation.competition_util import generate_forecasting_h5\n",
    "\n",
    "output_path = 'competition_files/competition116'\n",
    "\n",
    "generate_forecasting_h5(output_all, output_path) #this might take awhile"
   ]
  },
  {
   "cell_type": "code",
   "execution_count": null,
   "metadata": {},
   "outputs": [],
   "source": []
  }
 ],
 "metadata": {
  "kernelspec": {
   "display_name": "Python 3",
   "language": "python",
   "name": "python3"
  },
  "toc": {
   "base_numbering": 1,
   "nav_menu": {},
   "number_sections": false,
   "sideBar": true,
   "skip_h1_title": false,
   "title_cell": "Table of Contents",
   "title_sidebar": "Contents",
   "toc_cell": false,
   "toc_position": {},
   "toc_section_display": true,
   "toc_window_display": false
  }
 },
 "nbformat": 4,
 "nbformat_minor": 4
}
